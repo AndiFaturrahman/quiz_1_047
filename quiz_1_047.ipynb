{
  "nbformat": 4,
  "nbformat_minor": 0,
  "metadata": {
    "colab": {
      "provenance": []
    },
    "kernelspec": {
      "name": "python3",
      "display_name": "Python 3"
    },
    "language_info": {
      "name": "python"
    }
  },
  "cells": [
    {
      "cell_type": "code",
      "execution_count": null,
      "metadata": {
        "colab": {
          "base_uri": "https://localhost:8080/"
        },
        "id": "Bn6XI5HI3POa",
        "outputId": "755e06a0-edc8-4f45-ac5a-d65792dc5852"
      },
      "outputs": [
        {
          "output_type": "stream",
          "name": "stdout",
          "text": [
            "Nilai Min: 12, Nilai Max: 100\n",
            "Matrix Transpose:\n",
            "[34, 72, 61]\n",
            "[100, 24, 20]\n",
            "[12, 55, 19]\n",
            "Hasil Perkalian Matrix:\n",
            "[11300, 5508, 4302]\n",
            "[5508, 8785, 5917]\n",
            "[4302, 5917, 4482]\n",
            "Hasil Penjumlahan Matrix:\n",
            "[68, 172, 73]\n",
            "[172, 48, 75]\n",
            "[73, 75, 38]\n"
          ]
        }
      ],
      "source": [
        "class OperasiMatrix:\n",
        "    def __init__(self, matrix):\n",
        "        self.matrix = matrix\n",
        "\n",
        "    def cari_min_max(self):\n",
        "        flatten_matrix = [num for row in self.matrix for num in row]\n",
        "        return min(flatten_matrix), max(flatten_matrix)\n",
        "\n",
        "    def transpose_matrix(self):\n",
        "        return [[self.matrix[j][i] for j in range(len(self.matrix))] for i in range(len(self.matrix[0]))]\n",
        "\n",
        "    def kali_matrix(self, matrix_lain):\n",
        "        result = [[0 for _ in range(len(matrix_lain[0]))] for _ in range(len(self.matrix))]\n",
        "\n",
        "        for i in range(len(self.matrix)):\n",
        "            for j in range(len(matrix_lain[0])):\n",
        "                for k in range(len(matrix_lain)):\n",
        "                    result[i][j] += self.matrix[i][k] * matrix_lain[k][j]\n",
        "\n",
        "        return result\n",
        "\n",
        "    def jumlah_matrix(self, matrix_lain):\n",
        "        return [[self.matrix[i][j] + matrix_lain[i][j] for j in range(len(self.matrix[0]))] for i in range(len(self.matrix))]\n",
        "\n",
        "if __name__ == \"__main__\":\n",
        "    matrix_A = [\n",
        "        [34, 100, 12],\n",
        "        [72, 24, 55],\n",
        "        [61, 20, 19]\n",
        "    ]\n",
        "\n",
        "    operasi_matrix = OperasiMatrix(matrix_A)\n",
        "\n",
        "    nilai_min, nilai_max = operasi_matrix.cari_min_max()\n",
        "    print(f\"Nilai Min: {nilai_min}, Nilai Max: {nilai_max}\")\n",
        "\n",
        "    matrix_transpose = operasi_matrix.transpose_matrix()\n",
        "    print(\"Matrix Transpose:\")\n",
        "    for row in matrix_transpose:\n",
        "        print(row)\n",
        "\n",
        "    matrix_T = operasi_matrix.transpose_matrix()\n",
        "    hasil_kali = operasi_matrix.kali_matrix(matrix_T)\n",
        "    print(\"Hasil Perkalian Matrix:\")\n",
        "    for row in hasil_kali:\n",
        "        print(row)\n",
        "\n",
        "    hasil_penjumlahan = operasi_matrix.jumlah_matrix(matrix_T)\n",
        "    print(\"Hasil Penjumlahan Matrix:\")\n",
        "    for row in hasil_penjumlahan:\n",
        "        print(row)"
      ]
    }
  ]
}